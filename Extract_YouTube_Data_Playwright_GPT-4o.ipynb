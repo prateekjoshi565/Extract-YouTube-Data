{
  "nbformat": 4,
  "nbformat_minor": 0,
  "metadata": {
    "colab": {
      "provenance": []
    },
    "kernelspec": {
      "name": "python3",
      "display_name": "Python 3"
    },
    "language_info": {
      "name": "python"
    }
  },
  "cells": [
    {
      "cell_type": "markdown",
      "source": [
        "# Extract YouTube Data with Playwrite and GPT-4o"
      ],
      "metadata": {
        "id": "mRceWXumGdAr"
      }
    },
    {
      "cell_type": "code",
      "execution_count": null,
      "metadata": {
        "id": "Esi4gRTuAQR9"
      },
      "outputs": [],
      "source": [
        "!pip install instructor\n",
        "!pip install markdownify\n",
        "!pip install playwright\n",
        "!python -m playwright install"
      ]
    },
    {
      "cell_type": "code",
      "source": [
        "import re\n",
        "import asyncio\n",
        "import instructor\n",
        "from openai import OpenAI\n",
        "from pydantic import BaseModel\n",
        "from markdownify import markdownify as md\n",
        "from playwright.async_api import async_playwright\n",
        "from google.colab import userdata"
      ],
      "metadata": {
        "id": "1CZdf2ooBJKC"
      },
      "execution_count": null,
      "outputs": []
    },
    {
      "cell_type": "markdown",
      "source": [
        "## Extract search results from YouTube"
      ],
      "metadata": {
        "id": "T67qOQ6jGUCy"
      }
    },
    {
      "cell_type": "code",
      "source": [
        "search_query = \"super cars 2025\"\n",
        "\n",
        "async with async_playwright() as p:\n",
        "  browser = await p.chromium.launch(headless=True)\n",
        "  context = await browser.new_context()\n",
        "  page = await context.new_page()\n",
        "\n",
        "  # Navigating to the YouTube video URL\n",
        "  await page.goto(\"https://www.youtube.com/\", wait_until=\"networkidle\")\n",
        "  await page.fill('input[name=\"search_query\"]', search_query)\n",
        "  await page.press('input[name=\"search_query\"]', 'Enter')\n",
        "\n",
        "  # Scrolling down to load more comments\n",
        "  for _ in range(20):\n",
        "    await page.mouse.wheel(0, 200)\n",
        "    await asyncio.sleep(0.5)\n",
        "\n",
        "  # Giving some time for additional content to load\n",
        "  await page.wait_for_timeout(1000)\n",
        "\n",
        "  # Extracting the page content\n",
        "  page_content = await page.content()"
      ],
      "metadata": {
        "id": "PWeqkwegBO1o"
      },
      "execution_count": null,
      "outputs": []
    },
    {
      "cell_type": "code",
      "source": [
        "# convvert HTML content to markdown\n",
        "content = md(page_content, heading_style=\"ATX\")\n",
        "\n",
        "# remove empty lines\n",
        "content = re.sub(r'\\n{3,}', '\\n\\n', content)"
      ],
      "metadata": {
        "id": "nIVfGV7BB-j8"
      },
      "execution_count": null,
      "outputs": []
    },
    {
      "cell_type": "code",
      "source": [
        "print(content)"
      ],
      "metadata": {
        "id": "-_LBr_cwGwHa"
      },
      "execution_count": null,
      "outputs": []
    },
    {
      "cell_type": "markdown",
      "source": [
        "## Extract insights using GPT-4o"
      ],
      "metadata": {
        "id": "xhBByZe3CgjN"
      }
    },
    {
      "cell_type": "markdown",
      "source": [
        "Use Instructor library to extract insights from the markdown doc in a fixed format."
      ],
      "metadata": {
        "id": "MxUPRBvQCy6z"
      }
    },
    {
      "cell_type": "code",
      "source": [
        "class youtube_info(BaseModel):\n",
        "  video_title: str\n",
        "  video_duration: str\n",
        "  views: str\n",
        "  video_upload_time: str\n",
        "  channel_id: str"
      ],
      "metadata": {
        "id": "MNKoaXTcCoZI"
      },
      "execution_count": null,
      "outputs": []
    },
    {
      "cell_type": "code",
      "source": [
        "client = instructor.from_openai(OpenAI(api_key = userdata.get('OPENAI-KEY')))\n",
        "\n",
        "prompt = \"\"\"\n",
        "From the following markdown content of a youtube search results page, extract info like -\n",
        "\n",
        "1. video name\n",
        "2. duration of video\n",
        "3. views count\n",
        "4. time past since video upload\n",
        "5. channel id of each video\n",
        "\n",
        "* Do not consider YouTube Shorts videos.\n",
        "\\n\\n\n",
        "\"\"\"\n",
        "\n",
        "res = client.chat.completions.create_iterable(\n",
        "    model=\"gpt-4o\",\n",
        "    response_model=youtube_info,\n",
        "    messages=[{\"role\": \"user\", \"content\": prompt+content}],\n",
        ")"
      ],
      "metadata": {
        "id": "WMJCD05qEsRQ"
      },
      "execution_count": null,
      "outputs": []
    },
    {
      "cell_type": "code",
      "source": [
        "video_info = []\n",
        "\n",
        "# generate multiple choice questions\n",
        "for v in res:\n",
        "    video_info.append(v.model_dump())"
      ],
      "metadata": {
        "id": "cv17uTkJGA_O"
      },
      "execution_count": null,
      "outputs": []
    },
    {
      "cell_type": "code",
      "source": [
        "# check number of entities extracted\n",
        "len(video_info)"
      ],
      "metadata": {
        "id": "PooDhcCPGDOJ"
      },
      "execution_count": null,
      "outputs": []
    },
    {
      "cell_type": "code",
      "source": [
        "# print results\n",
        "video_info"
      ],
      "metadata": {
        "id": "RVhAeHa6GOtz"
      },
      "execution_count": null,
      "outputs": []
    }
  ]
}